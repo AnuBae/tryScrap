{
 "metadata": {
  "language_info": {
   "codemirror_mode": {
    "name": "ipython",
    "version": 3
   },
   "file_extension": ".py",
   "mimetype": "text/x-python",
   "name": "python",
   "nbconvert_exporter": "python",
   "pygments_lexer": "ipython3",
   "version": "3.8.5"
  },
  "orig_nbformat": 2,
  "kernelspec": {
   "name": "python385jvsc74a57bd07b4b4feff2f24a0f0a34464dbe537a36fda679851528fb8735cb41fa49dffb2d",
   "display_name": "Python 3.8.5 64-bit (conda)"
  }
 },
 "nbformat": 4,
 "nbformat_minor": 2,
 "cells": [
  {
   "cell_type": "code",
   "execution_count": 2,
   "metadata": {
    "tags": []
   },
   "outputs": [
    {
     "output_type": "stream",
     "name": "stdout",
     "text": [
      "<urllib.request.Request object at 0x000001EC46B2F760>\n",
      "<class 'bytes'>\n",
      "<class 'bs4.BeautifulSoup'>\n",
      "____________________________________________________________________________________\n",
      " Deskripsi Pekerjaan Requirement : S-1 Teknik (Mechatronik/Elektromekanikal). Paling disukai pada jurusan elektro Max Usia 30 Tahun Fresh Graduate, atau lebih disukai memiliki 1 tahun pengalaman dalam bidang yang sama.  Bersedia di tempatkan di area Serang - Cikande, Modern Industri. Skills : Memahami Analisa Kerusakan Tegangan Arus Rendah. Membaca Diagram Wiring. Analisa kerusakan sistem PLG, Servo dan Inverter. Job Desk : Menyusun dan Mengontrol kegiatan perawatan dan perbaikan alat/mesin Bulanan berjalan dengan baik. Mengumpulkan data, Menganalisa data, Dokumen Teknik Maintenance. Mampu berkoordinasi dengan seluruh tim Teknik Maintenance dalam menganalisa masalah. Informasi Tambahan Tingkat Pekerjaan Supervisor/Koordinator Kualifikasi Sarjana (S1) Pengalaman Kerja 1 tahun Jenis Pekerjaan Penuh Waktu Spesialisasi Pekerjaan Manufaktur ,  Pemeliharaan Tentang Perusahaan  Modern Group  is a scope of several units of companies that enter the industrial or manufacturing sector. The type of business consists of  Cosmetics, Baby Toiletries, Printing, Packaging, Molding, Plastic Injection & Blow  in area of  Cikande, Cakung, Ciawi  and several  Branch Distributor in Indonesia. \n",
      " Multi indocitra Tbk  is one of Modern Groups business unit which is engaged in Sales & Marketing Distribution industry which has branches and warehouse in several regions of Indonesia. \n",
      "Beside on the retail industry, Modern group also have several industries manufacturing among them  PT. Multielok Cosmetics  is engaged in cosmetic processing factory of liquid and powder materials, while for Molding and Assembling Modern Group has  PT. Hasta prima industri  located in Cikande, Serang.  PT. Kartika Naya  located in East Jakarta company engaged in printing & packing business, and the last is the  PT. Honoris industry  that is engaged in the business of electrikal sector of domestic famous lighting. Informasi Tambahan Perusahaan Ukuran Perusahaan 2001 - 5000 pekerja Waktu Proses Lamaran 29 hari Industri Manufaktur/Produksi Tunjangan dan Lain-lain Asuransi kesehatan ,  Waktu regular, Senin - Jumat ,  Bisnis (contoh: Kemeja) Lokasi Cikande\n"
     ]
    }
   ],
   "source": [
    "from urllib.request import urlopen, Request\n",
    "from bs4 import BeautifulSoup\n",
    "import pandas as pd\n",
    " \n",
    "# penyiapan scraping\n",
    "link = \"https://www.jobstreet.co.id/id/job/teknik-maintenance-section-head-3516317?jobId=jobstreet-id-job-3516317&sectionRank=1&token=0~05b41186-4503-496c-9d6f-9c49c3c73504&fr=SRP%20View%20In%20New%20Tab\"\n",
    "r = Request(link, headers={'User-Agent': 'Mozilla/5.0 (Windows NT 6.1; Win64; x64)'})\n",
    "print(r)\n",
    "response = urlopen(r).read()\n",
    "print(type(response))\n",
    "\n",
    "soup = BeautifulSoup(response, \"html.parser\")\n",
    "print(type(soup))\n",
    "\n",
    "deskripsi = soup.find('div', 'FYwKg d7v3r _3BZ6E_0 _2FwxQ_0')\n",
    "# print(deskripsi)\n",
    "\n",
    "new_string = \"\"\n",
    "# Print each string recursivey\n",
    "for string in deskripsi.strings:\n",
    "    string_replacements  = new_string + \" \" + string\n",
    "    new_string = string_replacements\n",
    "\n",
    "print(\"____________________________________________________________________________________\")\n",
    "print(new_string.replace(\"'\",\"\"))"
   ]
  },
  {
   "cell_type": "code",
   "execution_count": null,
   "metadata": {},
   "outputs": [],
   "source": []
  }
 ]
}