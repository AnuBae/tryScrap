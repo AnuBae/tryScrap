{
 "metadata": {
  "language_info": {
   "codemirror_mode": {
    "name": "ipython",
    "version": 3
   },
   "file_extension": ".py",
   "mimetype": "text/x-python",
   "name": "python",
   "nbconvert_exporter": "python",
   "pygments_lexer": "ipython3",
   "version": "3.8.5"
  },
  "orig_nbformat": 2,
  "kernelspec": {
   "name": "python385jvsc74a57bd07b4b4feff2f24a0f0a34464dbe537a36fda679851528fb8735cb41fa49dffb2d",
   "display_name": "Python 3.8.5 64-bit (conda)"
  }
 },
 "nbformat": 4,
 "nbformat_minor": 2,
 "cells": [
  {
   "cell_type": "code",
   "execution_count": 1,
   "metadata": {},
   "outputs": [
    {
     "output_type": "stream",
     "name": "stdout",
     "text": [
      " Keuntungan Benefits International Relation Salary Package Deskripsi Pekerjaan Candidate must possess at least SMU in Engineering (Computer/Telecommunication), Computer Science/Information Technology or equivalent. At least 1 Year(s) of working experience in the related field is required for this position. Required Skill(s): REACT, JAVASCRIPT, TYPESCRIPT, HTML, CSS, REST API, AJAX Preferably Staff (non-management & non-supervisor) specialized in IT/Computer - Software or equivalent. Informasi Tambahan Tingkat Pekerjaan Pegawai (non-manajemen & non-supervisor) Kualifikasi SMA, SMU/SMK/STM Pengalaman Kerja 1 tahun Jenis Pekerjaan Kontrak Spesialisasi Pekerjaan Komputer/Teknologi Informasi ,  IT-Perangkat Lunak Tentang Perusahaan  \n \n Are you interested in a lucrative career as a freelance developer? With freelancing on the rise, thousands of developers worldwide are changing the way they work, from full-time employment to full-time remote freelancing. At CV Karya Murni, you’ll find remote freelance opportunities with leading global companies, on your terms. \n CV Karya Murni cooperates with Rad4m Poland. Rad4m is a software house providing high-quality services for clients. \n We specialize in design, development, deployment and maintenance mobile and webapps. We offer end-to-end complex services from verifying ideas, branding and strategy throught protyping, designing, coding, testing, deploying and post deployment optimization and support. \n During creating mobile apps and complex system we gain experience in delivering services for companies working in many sectors: manufacturing, energy industry, building, finance, strategy, trading, education, communication, accounting. \n \n Informasi Tambahan Perusahaan No. Registrasi 90.662.002.6-617.000 Ukuran Perusahaan 1- 50 pekerja Waktu Proses Lamaran 5 hari Industri Percetakan/Penerbitan Tunjangan dan Lain-lain Asuransi kesehatan ,  Waktu regular, Senin - Jumat ,  Kasual (contoh: Kaos) Foto perusahaan  1 / 2\n"
     ]
    }
   ],
   "source": [
    "from urllib.request import urlopen, Request\n",
    "from bs4 import BeautifulSoup\n",
    "import pandas as pd\n",
    "\n",
    "link = \"https://www.jobstreet.co.id/id/job/front-end-programmer-work-from-home-3514799?jobId=jobstreet-id-job-3514799&sectionRank=30&token=0~7e14c608-393d-4970-b42d-1da8288cefee&fr=SRP%20Job%20Listing\"\n",
    "\n",
    "r2 = Request(link, headers={'User-Agent': 'Mozilla/5.0 (Windows NT 6.1; Win64; x64)'})\n",
    "response2 = urlopen(r2).read()\n",
    "\n",
    "soup2 = BeautifulSoup(response2, \"lxml\")\n",
    "raw_deskripsi = soup2.find('div', \"FYwKg d7v3r _3BZ6E_0 _2FwxQ_0\")\n",
    "# increment deskripsi\n",
    "deskripsi = \"\"\n",
    "for string in raw_deskripsi.strings:\n",
    "    new_string  = deskripsi + \" \" + string\n",
    "    deskripsi = new_string\n",
    "\n",
    "print(deskripsi)"
   ]
  },
  {
   "cell_type": "code",
   "execution_count": null,
   "metadata": {},
   "outputs": [],
   "source": []
  }
 ]
}