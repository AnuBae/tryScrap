{
 "cells": [
  {
   "cell_type": "code",
   "execution_count": 2,
   "source": [
    "from pytube import YouTube\r\n",
    "\r\n",
    "#ask for the link from user\r\n",
    "link = input(\"link of YouTube video you want to download:  \")\r\n",
    "yt = YouTube(link)\r\n",
    "\r\n",
    "#highest Resolution\r\n",
    "ys = yt.streams.get_highest_resolution()\r\n",
    "# or\r\n",
    "# ys = yt.streams.first()\r\n",
    "\r\n",
    "#download\r\n",
    "ys.download('.\\\\video')"
   ],
   "outputs": [
    {
     "output_type": "execute_result",
     "data": {
      "text/plain": [
       "'d:\\\\Dokumen\\\\Skripsi\\\\Scraping\\\\latihan\\\\Pytube\\\\.\\\\video\\\\aespa 에스파 Savage MV.mp4'"
      ]
     },
     "metadata": {},
     "execution_count": 2
    }
   ],
   "metadata": {}
  }
 ],
 "metadata": {
  "orig_nbformat": 4,
  "language_info": {
   "name": "python",
   "version": "3.8.5",
   "mimetype": "text/x-python",
   "codemirror_mode": {
    "name": "ipython",
    "version": 3
   },
   "pygments_lexer": "ipython3",
   "nbconvert_exporter": "python",
   "file_extension": ".py"
  },
  "kernelspec": {
   "name": "python3",
   "display_name": "Python 3.8.5 64-bit ('base': conda)"
  },
  "interpreter": {
   "hash": "7b4b4feff2f24a0f0a34464dbe537a36fda679851528fb8735cb41fa49dffb2d"
  }
 },
 "nbformat": 4,
 "nbformat_minor": 2
}