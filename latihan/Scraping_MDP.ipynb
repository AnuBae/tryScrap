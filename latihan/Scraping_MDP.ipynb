{
 "cells": [
  {
   "cell_type": "markdown",
   "metadata": {},
   "source": [
    "# Scaping MDP\n",
    "\n",
    "Scaraping berdasarkan hasil pencarian kata kunci tertentu di mdp.co.ic\n",
    "\n",
    "* Inisialisasi Url Lib \n",
    "urllib merupakan model python untuk mengakses halaman web. Menggunakan fungsi urlopen dan read untuk membaca kode html. dapat dilihat bahwa r merupakan string html."
   ]
  },
  {
   "cell_type": "code",
   "execution_count": 1,
   "metadata": {},
   "outputs": [
    {
     "output_type": "stream",
     "name": "stdout",
     "text": [
      "<class 'bytes'>\nb'\\n<!doctype html>\\r\\n<html lang=\"en\">\\r\\n<head>\\r\\n    <meta charset=\"UTF-8\">\\r\\n    <meta http-equiv=\"X-UA-Compatible\" content=\"IE=edge\">\\r\\n    <meta name=\"viewport\" content=\"width=device-width, initial-scale=1\" user-scalable=\"no\"/>\\r\\n    \\r\\n    <title>  MDP IT & Electronic Store</title>\\r\\n\\t\\r\\n\\t<link rel=\"shortcut icon\" href=\"/favicon.ico\">\\r\\n\\t<link rel=\"apple-touch-icon\" sizes=\"180x180\" href=\"/apple-touch-icon.png\">\\r\\n\\t<link rel=\"icon\" type=\"image/png\" sizes=\"32x32\" href=\"/favicon-32x32.png\">\\r\\n\\t<link rel=\"icon\" type=\"image/png\" sizes=\"16x16\" href=\"/favicon-16x16.png\">\\r\\n\\t<link rel=\"manifest\" href=\"/site.webmanifest\">\\r\\n\\t<link rel=\"mask-icon\" href=\"/safari-pinned-tab.svg\" color=\"#5bbad5\">\\r\\n\\t<meta name=\"msapplication-TileColor\" content=\"#00a300\">\\r\\n\\t<meta name=\"theme-color\" content=\"#ffffff\">\\r\\n    \\r\\n    <link href=\"https://mdp.co.id/assets/css/normalize.css\" rel=\"stylesheet\" type=\"text/css\" />\\n    <link href=\"https://mdp.co.id/assets/css/bootstrap.css\" rel=\"stylesheet\" type=\"text/css\" />\\n    <link href='\n"
     ]
    }
   ],
   "source": [
    "from urllib.request import urlopen\n",
    "keyword = \"iphone\"\n",
    "html = urlopen(\"https://mdp.co.id/store/1?ci_csrf_token=&search=\"+keyword).read()\n",
    "print(type(html))\n",
    "print(html[1:1000])"
   ]
  },
  {
   "cell_type": "markdown",
   "metadata": {},
   "source": [
    "* Inisiliasisasi Beautifulsoup\n",
    "setelah menginport modul, string html diubah menjadi objek beautifulsoup dan digunakan parse lxml. jika di print soupnya, sekilas seperti string html namun sebenarnya itu adalah objek soup yang dapat ditelusuri disetiap elemannya."
   ]
  },
  {
   "cell_type": "code",
   "execution_count": 2,
   "metadata": {},
   "outputs": [
    {
     "output_type": "stream",
     "name": "stdout",
     "text": [
      "<class 'bs4.BeautifulSoup'>\n!DOCTYPE html>\n<html lang=\"en\">\n <head>\n  <meta charset=\"utf-8\"/>\n  <meta content=\"IE=edge\" http-equiv=\"X-UA-Compatible\"/>\n  <meta content=\"width=device-width, initial-scale=1\" name=\"viewport\" user-scalable=\"no\"/>\n  <title>\n   MDP IT &amp; Electronic Store\n  </title>\n  <link href=\"/favicon.ico\" rel=\"shortcut icon\"/>\n  <link href=\"/apple-touch-icon.png\" rel=\"apple-touch-icon\" sizes=\"180x180\"/>\n  <link href=\"/favicon-32x32.png\" rel=\"icon\" sizes=\"32x32\" type=\"image/png\"/>\n  <link href=\"/favicon-16x16.png\" rel=\"icon\" sizes=\"16x16\" type=\"image/png\"/>\n  <link href=\"/site.webmanifest\" rel=\"manifest\"/>\n  <link color=\"#5bbad5\" href=\"/safari-pinned-tab.svg\" rel=\"mask-icon\"/>\n  <meta content=\"#00a300\" name=\"msapplication-TileColor\"/>\n  <meta content=\"#ffffff\" name=\"theme-color\"/>\n  <link href=\"https://mdp.co.id/assets/css/normalize.css\" rel=\"stylesheet\" type=\"text/css\"/>\n  <link href=\"https://mdp.co.id/assets/css/bootstrap.css\" rel=\"stylesheet\" type=\"text/css\"/>\n  <link href=\"https://mdp.co.id/a\n"
     ]
    }
   ],
   "source": [
    "from bs4 import BeautifulSoup\n",
    "soup = BeautifulSoup(html, \"lxml\")\n",
    "print(type(soup))\n",
    "print(soup.prettify()[1:1000])"
   ]
  },
  {
   "cell_type": "markdown",
   "metadata": {},
   "source": [
    "* Telusuri\n",
    "menelusuri dan mengambil atribut-atribut yang dibutuhkan. (proses scraping?)"
   ]
  },
  {
   "cell_type": "code",
   "execution_count": 4,
   "metadata": {},
   "outputs": [
    {
     "output_type": "stream",
     "name": "stdout",
     "text": [
      "SMARTPHONE APPLE IPHONE 12 PRO 512GB GOLD (MGMW3PA/A)\n24999000\nSMARTPHONE APPLE IPHONE 12 128GB WHITE (MGJC3PA/A)\n16499000\nSMARTPHONE APPLE IPHONE 12 PRO MAX 128GB GOLD (MGD93PA/A)\n20499000\nSMARTPHONE APPLE IPHONE 12 PRO MAX 128GB PASIFIC BLUE (MGDA3PA/A)\n20499000\nSTANDING PORTABLE CHARGER IPHONE IWATCH 2 IN 1\n100000\nSMARTPHONE APPLE IPHONE 12 MINI 64GB WHITE\n12999000\nSMARTPHONE APPLE IPHONE 12 128GB GREEN (MGJF3PA/A)\n16499000\nSMARTPHONE APPLE IPHONE 12 128GB BLUE (MGJE3PA/A)\n16499000\nSMARTPHONE APPLE IPHONE 12 PRO 256GB SILVER (MGMQ3PA/A)\n20999000\nSMARTPHONE APPLE IPHONE 12 PRO MAX 256GB SILVER\n22999000\nSMARTPHONE APPLE IPHONE 12 PRO 256GB GOLD (MGMR3PA/A)\n23500000\nSMARTPHONE APPLE IPHONE 11 128GB WHITE NEW PACKAGE (TANPA KEPALA ADAPTOR) MHDJ3PA/A\n13700000\nSMARTPHONE APPLE IPHONE 11 128GB BLACK NEW PACKAGE (TANPA KEPALA ADAPTOR) MHDH3PA/A\n12499000\nSMARTPHONE APPLE IPHONE 12 PRO MAX 128GB GRAPHITE (MGD73PA/A)\n20499000\nSMARTPHONE APPLE IPHONE 12 PRO MAX 128GB SILVER (MGD83PA/A)\n20499000\nSMARTPHONE APPLE IPHONE 12 PRO 512GB GRAPHITE\n24999000\nSMARTPHONE APPLE IPHONE 12 PRO 256GB GRAPHITE (MGMP3PA/A)\n23500000\nSMARTPHONE APPLE IPHONE 12 PRO 128GB GOLD (MGMM3PA/A)\n18999000\nSMARTPHONE APPLE IPHONE 12 PRO 128GB SILVER (MGML3PA/A)\n18499000\nSMARTPHONE APPLE IPHONE 12 MINI 128GB BLUE\n14499000\nSMARTPHONE APPLE IPHONE 12 MINI 128GB RED\n14499000\nSMARTPHONE APPLE IPHONE 12 MINI 128GB BLACK (MGE33PA/A)\n14499000\nSMARTPHONE APPLE IPHONE 12 MINI 64GB RED\n12999000\nSMARTPHONE APPLE IPHONE 12 128GB RED (MGJD3PA/A)\n16499000\n"
     ]
    }
   ],
   "source": [
    "produk = soup.find_all(\"div\",\"products-desc\")\n",
    "for p in produk:\n",
    "  print (p.find('a').get_text())\n",
    "  print (p.find('span').get_text().replace('Rp', '').replace('.', '').replace(' ', ''))"
   ]
  },
  {
   "cell_type": "markdown",
   "metadata": {},
   "source": [
    "* Panda DataFrame"
   ]
  },
  {
   "cell_type": "code",
   "execution_count": 5,
   "metadata": {},
   "outputs": [
    {
     "output_type": "execute_result",
     "data": {
      "text/plain": [
       "                                                 nama     harga\n",
       "4   b'STANDING PORTABLE CHARGER IPHONE IWATCH 2 IN 1'    100000\n",
       "12  b'SMARTPHONE APPLE IPHONE 11 128GB BLACK NEW P...  12499000\n",
       "5       b'SMARTPHONE APPLE IPHONE 12 MINI 64GB WHITE'  12999000\n",
       "22        b'SMARTPHONE APPLE IPHONE 12 MINI 64GB RED'  12999000\n",
       "11  b'SMARTPHONE APPLE IPHONE 11 128GB WHITE NEW P...  13700000\n",
       "21  b'SMARTPHONE APPLE IPHONE 12 MINI 128GB BLACK ...  14499000\n",
       "20       b'SMARTPHONE APPLE IPHONE 12 MINI 128GB RED'  14499000\n",
       "19      b'SMARTPHONE APPLE IPHONE 12 MINI 128GB BLUE'  14499000\n",
       "23  b'SMARTPHONE APPLE IPHONE 12 128GB RED (MGJD3P...  16499000\n",
       "7   b'SMARTPHONE APPLE IPHONE 12 128GB BLUE (MGJE3...  16499000\n",
       "6   b'SMARTPHONE APPLE IPHONE 12 128GB GREEN (MGJF...  16499000\n",
       "1   b'SMARTPHONE APPLE IPHONE 12 128GB WHITE (MGJC...  16499000\n",
       "18  b'SMARTPHONE APPLE IPHONE 12 PRO 128GB SILVER ...  18499000\n",
       "17  b'SMARTPHONE APPLE IPHONE 12 PRO 128GB GOLD (M...  18999000\n",
       "13  b'SMARTPHONE APPLE IPHONE 12 PRO MAX 128GB GRA...  20499000\n",
       "14  b'SMARTPHONE APPLE IPHONE 12 PRO MAX 128GB SIL...  20499000\n",
       "3   b'SMARTPHONE APPLE IPHONE 12 PRO MAX 128GB PAS...  20499000\n",
       "2   b'SMARTPHONE APPLE IPHONE 12 PRO MAX 128GB GOL...  20499000\n",
       "8   b'SMARTPHONE APPLE IPHONE 12 PRO 256GB SILVER ...  20999000\n",
       "9   b'SMARTPHONE APPLE IPHONE 12 PRO MAX 256GB SIL...  22999000\n",
       "10  b'SMARTPHONE APPLE IPHONE 12 PRO 256GB GOLD (M...  23500000\n",
       "16  b'SMARTPHONE APPLE IPHONE 12 PRO 256GB GRAPHIT...  23500000\n",
       "15   b'SMARTPHONE APPLE IPHONE 12 PRO 512GB GRAPHITE'  24999000\n",
       "0   b'SMARTPHONE APPLE IPHONE 12 PRO 512GB GOLD (M...  24999000"
      ],
      "text/html": "<div>\n<style scoped>\n    .dataframe tbody tr th:only-of-type {\n        vertical-align: middle;\n    }\n\n    .dataframe tbody tr th {\n        vertical-align: top;\n    }\n\n    .dataframe thead th {\n        text-align: right;\n    }\n</style>\n<table border=\"1\" class=\"dataframe\">\n  <thead>\n    <tr style=\"text-align: right;\">\n      <th></th>\n      <th>nama</th>\n      <th>harga</th>\n    </tr>\n  </thead>\n  <tbody>\n    <tr>\n      <th>4</th>\n      <td>b'STANDING PORTABLE CHARGER IPHONE IWATCH 2 IN 1'</td>\n      <td>100000</td>\n    </tr>\n    <tr>\n      <th>12</th>\n      <td>b'SMARTPHONE APPLE IPHONE 11 128GB BLACK NEW P...</td>\n      <td>12499000</td>\n    </tr>\n    <tr>\n      <th>5</th>\n      <td>b'SMARTPHONE APPLE IPHONE 12 MINI 64GB WHITE'</td>\n      <td>12999000</td>\n    </tr>\n    <tr>\n      <th>22</th>\n      <td>b'SMARTPHONE APPLE IPHONE 12 MINI 64GB RED'</td>\n      <td>12999000</td>\n    </tr>\n    <tr>\n      <th>11</th>\n      <td>b'SMARTPHONE APPLE IPHONE 11 128GB WHITE NEW P...</td>\n      <td>13700000</td>\n    </tr>\n    <tr>\n      <th>21</th>\n      <td>b'SMARTPHONE APPLE IPHONE 12 MINI 128GB BLACK ...</td>\n      <td>14499000</td>\n    </tr>\n    <tr>\n      <th>20</th>\n      <td>b'SMARTPHONE APPLE IPHONE 12 MINI 128GB RED'</td>\n      <td>14499000</td>\n    </tr>\n    <tr>\n      <th>19</th>\n      <td>b'SMARTPHONE APPLE IPHONE 12 MINI 128GB BLUE'</td>\n      <td>14499000</td>\n    </tr>\n    <tr>\n      <th>23</th>\n      <td>b'SMARTPHONE APPLE IPHONE 12 128GB RED (MGJD3P...</td>\n      <td>16499000</td>\n    </tr>\n    <tr>\n      <th>7</th>\n      <td>b'SMARTPHONE APPLE IPHONE 12 128GB BLUE (MGJE3...</td>\n      <td>16499000</td>\n    </tr>\n    <tr>\n      <th>6</th>\n      <td>b'SMARTPHONE APPLE IPHONE 12 128GB GREEN (MGJF...</td>\n      <td>16499000</td>\n    </tr>\n    <tr>\n      <th>1</th>\n      <td>b'SMARTPHONE APPLE IPHONE 12 128GB WHITE (MGJC...</td>\n      <td>16499000</td>\n    </tr>\n    <tr>\n      <th>18</th>\n      <td>b'SMARTPHONE APPLE IPHONE 12 PRO 128GB SILVER ...</td>\n      <td>18499000</td>\n    </tr>\n    <tr>\n      <th>17</th>\n      <td>b'SMARTPHONE APPLE IPHONE 12 PRO 128GB GOLD (M...</td>\n      <td>18999000</td>\n    </tr>\n    <tr>\n      <th>13</th>\n      <td>b'SMARTPHONE APPLE IPHONE 12 PRO MAX 128GB GRA...</td>\n      <td>20499000</td>\n    </tr>\n    <tr>\n      <th>14</th>\n      <td>b'SMARTPHONE APPLE IPHONE 12 PRO MAX 128GB SIL...</td>\n      <td>20499000</td>\n    </tr>\n    <tr>\n      <th>3</th>\n      <td>b'SMARTPHONE APPLE IPHONE 12 PRO MAX 128GB PAS...</td>\n      <td>20499000</td>\n    </tr>\n    <tr>\n      <th>2</th>\n      <td>b'SMARTPHONE APPLE IPHONE 12 PRO MAX 128GB GOL...</td>\n      <td>20499000</td>\n    </tr>\n    <tr>\n      <th>8</th>\n      <td>b'SMARTPHONE APPLE IPHONE 12 PRO 256GB SILVER ...</td>\n      <td>20999000</td>\n    </tr>\n    <tr>\n      <th>9</th>\n      <td>b'SMARTPHONE APPLE IPHONE 12 PRO MAX 256GB SIL...</td>\n      <td>22999000</td>\n    </tr>\n    <tr>\n      <th>10</th>\n      <td>b'SMARTPHONE APPLE IPHONE 12 PRO 256GB GOLD (M...</td>\n      <td>23500000</td>\n    </tr>\n    <tr>\n      <th>16</th>\n      <td>b'SMARTPHONE APPLE IPHONE 12 PRO 256GB GRAPHIT...</td>\n      <td>23500000</td>\n    </tr>\n    <tr>\n      <th>15</th>\n      <td>b'SMARTPHONE APPLE IPHONE 12 PRO 512GB GRAPHITE'</td>\n      <td>24999000</td>\n    </tr>\n    <tr>\n      <th>0</th>\n      <td>b'SMARTPHONE APPLE IPHONE 12 PRO 512GB GOLD (M...</td>\n      <td>24999000</td>\n    </tr>\n  </tbody>\n</table>\n</div>"
     },
     "metadata": {},
     "execution_count": 5
    }
   ],
   "source": [
    "import pandas as pd\n",
    "\n",
    "nama_produk = []\n",
    "harga_produk = []\n",
    "\n",
    "produk = soup.find_all(\"div\",\"products-desc\")\n",
    "i = 1\n",
    "for p in produk:\n",
    "  nama = p.find('a').get_text().encode('utf-8')\n",
    "  harga = p.find('span').get_text().replace('Rp', '').replace('.', '').replace(' ', '').encode('utf-8')\n",
    "  nama_produk.append(nama)\n",
    "  harga_produk.append(int(harga))\n",
    "\n",
    "produk_dict ={'nama':nama_produk, 'harga':harga_produk}\n",
    "df = pd.DataFrame(produk_dict,columns = ['nama','harga'])\n",
    "\n",
    "df.sort_values('harga',ascending=True)"
   ]
  },
  {
   "source": [
    "menyimpan data kedalam bentuk file csv"
   ],
   "cell_type": "markdown",
   "metadata": {}
  },
  {
   "cell_type": "code",
   "execution_count": 19,
   "metadata": {},
   "outputs": [],
   "source": [
    "df.to_csv(\"MDP_iphone.csv\", sep=',')"
   ]
  }
 ],
 "metadata": {
  "kernelspec": {
   "name": "python385jvsc74a57bd07b4b4feff2f24a0f0a34464dbe537a36fda679851528fb8735cb41fa49dffb2d",
   "display_name": "Python 3.8.5 64-bit (conda)"
  },
  "language_info": {
   "codemirror_mode": {
    "name": "ipython",
    "version": 3
   },
   "file_extension": ".py",
   "mimetype": "text/x-python",
   "name": "python",
   "nbconvert_exporter": "python",
   "pygments_lexer": "ipython3",
   "version": "3.8.5"
  }
 },
 "nbformat": 4,
 "nbformat_minor": 4
}