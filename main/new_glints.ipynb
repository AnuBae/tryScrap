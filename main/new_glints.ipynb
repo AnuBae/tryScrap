{
 "cells": [
  {
   "cell_type": "code",
   "execution_count": 8,
   "metadata": {},
   "outputs": [
    {
     "name": "stdout",
     "output_type": "stream",
     "text": [
      "Data exists: 2599\n",
      "Data has been added: 11\n"
     ]
    },
    {
     "data": {
      "text/html": [
       "<div>\n",
       "<style scoped>\n",
       "    .dataframe tbody tr th:only-of-type {\n",
       "        vertical-align: middle;\n",
       "    }\n",
       "\n",
       "    .dataframe tbody tr th {\n",
       "        vertical-align: top;\n",
       "    }\n",
       "\n",
       "    .dataframe thead th {\n",
       "        text-align: right;\n",
       "    }\n",
       "</style>\n",
       "<table border=\"1\" class=\"dataframe\">\n",
       "  <thead>\n",
       "    <tr style=\"text-align: right;\">\n",
       "      <th></th>\n",
       "      <th>lowongan</th>\n",
       "      <th>perusahaan</th>\n",
       "      <th>lokasi</th>\n",
       "      <th>link</th>\n",
       "    </tr>\n",
       "  </thead>\n",
       "  <tbody>\n",
       "  </tbody>\n",
       "</table>\n",
       "</div>"
      ],
      "text/plain": [
       "Empty DataFrame\n",
       "Columns: [lowongan, perusahaan, lokasi, link]\n",
       "Index: []"
      ]
     },
     "execution_count": 8,
     "metadata": {},
     "output_type": "execute_result"
    }
   ],
   "source": [
    "from urllib.request import urlopen, Request\n",
    "from bs4 import BeautifulSoup\n",
    "import pandas as pd\n",
    "import mysql.connector\n",
    "import ssl\n",
    "\n",
    "# konektor ke database\n",
    "db = mysql.connector.connect(\n",
    "        host='localhost',\n",
    "        user='root',\n",
    "        password='',\n",
    "        database='UnNgGrape'\n",
    "        )\n",
    "cursor = db.cursor()\n",
    "exist = 0\n",
    "add = 0\n",
    "\n",
    "# scrape berdasarkan data keyword\n",
    "cursor.execute(\"SELECT * FROM keyword\")\n",
    "raw_keyword = cursor.fetchall()\n",
    "for row2 in raw_keyword:\n",
    "    # penyiapan scraping\n",
    "    keyword = row2[0]\n",
    "    try:\n",
    "        r = Request(\"https://glints.com/id/opportunities/jobs/explore?keyword=\" + keyword +\"&country=ID&locationName=Indonesia\", headers={'User-Agent': 'Mozilla/5.0 (Windows NT 6.1; Win64; x64)'})\n",
    "        gcontext = ssl.SSLContext()  # Only for gangstars\n",
    "        response = urlopen(r, context=gcontext).read()\n",
    "        soup = BeautifulSoup(response, \"lxml\")\n",
    "    except:\n",
    "        continue\n",
    "\n",
    "    # inisialisasi array untuk menampilkan hasil\n",
    "    title_lowongan = []\n",
    "    nama_perusahaan = []\n",
    "    lokasi_perusahaan = []\n",
    "    link_lowongan = []\n",
    "\n",
    "    jobList = soup.find_all(\"div\",\"compact_job_card\")\n",
    "    for p in jobList:\n",
    "        link = \"https://glints.com\"+p.find('a').get('href')\n",
    "        \n",
    "        # mengecek apakah data sudah adat atau belum\n",
    "        cursor.execute(\"SELECT * FROM lowongan WHERE link_lowongan = '\" + link + \"'\")\n",
    "        data = cursor.fetchall()\n",
    "        # if else untuk pengecekan input data\n",
    "        if data:\n",
    "            exist= exist + 1\n",
    "        else:\n",
    "            asal = \"glints\"\n",
    "\n",
    "            lowongan = p.find(\"h3\", \"CompactOpportunityCardsc__JobTitle-sc-1xtox99-7 kJpKeD\").get_text()\n",
    "            # menggunakan try except karena ada beberapa perusahaan yang dirahasiakan\n",
    "            try:\n",
    "                perusahaan = p.find('a', \"CompactOpportunityCardsc__CompanyLink-sc-1xtox99-8 bFxfxR\").get_text()\n",
    "            except:\n",
    "                perusahaan = \"Perusahaan Dirahasiakan\"\n",
    "            lokasi = p.find(\"div\", \"CompactOpportunityCardsc__OpportunityInfo-sc-1xtox99-13 hiAtMr\").get_text()\n",
    "\n",
    "            cursor.execute(\n",
    "                        \"INSERT INTO lowongan(asal, title_lowongan, nama_perusahaan, lokasi_perusahaan, link_lowongan)\"\n",
    "                        \"VALUES ('\"+ asal +\"', '\"+ lowongan.replace(\"'\", \"\").replace('\"', '').replace(',', '') +\"', '\"+ perusahaan.replace(',', '').replace(\"'\", \"\").replace('\"', '') +\"', '\"+ lokasi.replace(\"'\", \"\").replace('\"', '').replace(',', '') +\"', '\"+ link +\"')\"\n",
    "                        )\n",
    "\n",
    "            db.commit()\n",
    "            add = add + 1\n",
    "            \n",
    "            title_lowongan.append(lowongan)\n",
    "            nama_perusahaan.append(perusahaan)\n",
    "            lokasi_perusahaan.append(lokasi)\n",
    "            link_lowongan.append(link)\n",
    "            \n",
    "print(\"Data exists: \" + str(exist))\n",
    "print(\"Data has been added: \" + str(add))\n",
    "jobList_dict ={'lowongan':title_lowongan, 'perusahaan':nama_perusahaan, 'lokasi':lokasi_perusahaan, 'link':link_lowongan}\n",
    "df = pd.DataFrame(jobList_dict,columns = ['lowongan','perusahaan', 'lokasi', 'link'])\n",
    "\n",
    "df.sort_values('lowongan',ascending=True)"
   ]
  }
 ],
 "metadata": {
  "interpreter": {
   "hash": "7b4b4feff2f24a0f0a34464dbe537a36fda679851528fb8735cb41fa49dffb2d"
  },
  "kernelspec": {
   "display_name": "Python 3.8.5 64-bit ('base': conda)",
   "name": "python3"
  },
  "language_info": {
   "codemirror_mode": {
    "name": "ipython",
    "version": 3
   },
   "file_extension": ".py",
   "mimetype": "text/x-python",
   "name": "python",
   "nbconvert_exporter": "python",
   "pygments_lexer": "ipython3",
   "version": "3.8.5"
  },
  "orig_nbformat": 4
 },
 "nbformat": 4,
 "nbformat_minor": 2
}
