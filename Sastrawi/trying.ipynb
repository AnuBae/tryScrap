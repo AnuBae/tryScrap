{
 "cells": [
  {
   "cell_type": "code",
   "execution_count": 7,
   "source": [
    "from nltk.tokenize import word_tokenize\r\n",
    "from nltk.probability import FreqDist\r\n",
    "from Sastrawi.Stemmer.StemmerFactory import StemmerFactory\r\n",
    "from nltk.stem import PorterStemmer\r\n",
    "from nltk.tokenize import word_tokenize\r\n",
    "\r\n",
    "kalimat = \"TEKNIK  ENGINEERING PT Markindo Rekateknik Kualifikasi : Usia maksimal 38 tahun Pendidikan SMK, D3, S1 atau sederajat (Mesin, Elektro) Lebih disukai kemampuan Electrican/Engineer/Technician Komunikatif, bekerja secara tim maupun individu Ditempatkan di  Head Office - Jakarta Barat Tugas & Tanggerang Jawab : Maintenence dan Trouble Shooting Mesin Preventive Maintenence secara berkala Monitoring dan Pengecekan Kualitas Printing Demo Mesin & Instalasi Mesin Skills wajib Teknik Elektro Cc+ Plc Programming -\"\r\n",
    "\r\n",
    "# define punctuation\r\n",
    "punctuations = '''!()-[]{};:=+`'\",<>./|\\?@#$%^&*_~'''\r\n",
    "\r\n",
    "# remove punctuation from the string\r\n",
    "no_punct = \"\"\r\n",
    "for char in kalimat:\r\n",
    "    if char not in punctuations:\r\n",
    "        no_punct = no_punct + char\r\n",
    "    else:\r\n",
    "        no_punct = no_punct + \" \"\r\n",
    "\r\n",
    "# display the unpunctuated string\r\n",
    "print(\"no_punct:\")\r\n",
    "print(no_punct.lower())\r\n",
    "kalimat = no_punct.lower()\r\n",
    "\r\n",
    "tokens = word_tokenize(kalimat)\r\n",
    "kemunculan = FreqDist(tokens)\r\n",
    "print(\"kemunculan:\")\r\n",
    "print(kemunculan.most_common())\r\n",
    "\r\n",
    "#  create stemmer\r\n",
    "# nltk\r\n",
    "ps = PorterStemmer()\r\n",
    "# sastrawi\r\n",
    "factory = StemmerFactory()\r\n",
    "stemmer = factory.create_stemmer()\r\n",
    "\r\n",
    "nltk_stemmer = \"\"\r\n",
    "for w in tokens:\r\n",
    "    nltk_stemmer = nltk_stemmer + \" \" + ps.stem(w)\r\n",
    "# sastrawi\r\n",
    "output_stemmer = stemmer.stem(nltk_stemmer)\r\n",
    "print(\"output_stemmer:\")\r\n",
    "print(output_stemmer)\r\n",
    "\r\n",
    "tokens_stem = word_tokenize(output_stemmer)\r\n",
    "kemunculan_stem = FreqDist(tokens_stem)\r\n",
    "print(\"kemunculan stem:\")\r\n",
    "print(kemunculan_stem.most_common())"
   ],
   "outputs": [
    {
     "output_type": "stream",
     "name": "stdout",
     "text": [
      "no_punct:\n",
      "teknik  engineering pt markindo rekateknik kualifikasi   usia maksimal 38 tahun pendidikan smk  d3  s1 atau sederajat  mesin  elektro  lebih disukai kemampuan electrican engineer technician komunikatif  bekerja secara tim maupun individu ditempatkan di  head office   jakarta barat tugas   tanggerang jawab   maintenence dan trouble shooting mesin preventive maintenence secara berkala monitoring dan pengecekan kualitas printing demo mesin   instalasi mesin skills wajib teknik elektro cc+ plc programming  \n",
      "kemunculan:\n",
      "[('mesin', 4), ('teknik', 2), ('elektro', 2), ('secara', 2), ('maintenence', 2), ('dan', 2), ('engineering', 1), ('pt', 1), ('markindo', 1), ('rekateknik', 1), ('kualifikasi', 1), ('usia', 1), ('maksimal', 1), ('38', 1), ('tahun', 1), ('pendidikan', 1), ('smk', 1), ('d3', 1), ('s1', 1), ('atau', 1), ('sederajat', 1), ('lebih', 1), ('disukai', 1), ('kemampuan', 1), ('electrican', 1), ('engineer', 1), ('technician', 1), ('komunikatif', 1), ('bekerja', 1), ('tim', 1), ('maupun', 1), ('individu', 1), ('ditempatkan', 1), ('di', 1), ('head', 1), ('office', 1), ('jakarta', 1), ('barat', 1), ('tugas', 1), ('tanggerang', 1), ('jawab', 1), ('trouble', 1), ('shooting', 1), ('preventive', 1), ('berkala', 1), ('monitoring', 1), ('pengecekan', 1), ('kualitas', 1), ('printing', 1), ('demo', 1), ('instalasi', 1), ('skills', 1), ('wajib', 1), ('cc+', 1), ('plc', 1), ('programming', 1)]\n",
      "output_stemmer:\n",
      "teknik engin pt markindo rekateknik kualifikasi usia maksim 38 tahun didik smk d3 s1 atau derajat mesin elektro lebih suka mampu electrican engin technician komunikatif kerja cara tim maupun individu tempat di head offic jakarta barat tuga tanggerang jawab mainten dan troubl shoot mesin prevent mainten cara kala monitor dan kece kualita print demo mesin instalasi mesin skill wajib teknik elektro cc plc program\n",
      "kemunculan stem:\n",
      "[('mesin', 4), ('teknik', 2), ('engin', 2), ('elektro', 2), ('cara', 2), ('mainten', 2), ('dan', 2), ('pt', 1), ('markindo', 1), ('rekateknik', 1), ('kualifikasi', 1), ('usia', 1), ('maksim', 1), ('38', 1), ('tahun', 1), ('didik', 1), ('smk', 1), ('d3', 1), ('s1', 1), ('atau', 1), ('derajat', 1), ('lebih', 1), ('suka', 1), ('mampu', 1), ('electrican', 1), ('technician', 1), ('komunikatif', 1), ('kerja', 1), ('tim', 1), ('maupun', 1), ('individu', 1), ('tempat', 1), ('di', 1), ('head', 1), ('offic', 1), ('jakarta', 1), ('barat', 1), ('tuga', 1), ('tanggerang', 1), ('jawab', 1), ('troubl', 1), ('shoot', 1), ('prevent', 1), ('kala', 1), ('monitor', 1), ('kece', 1), ('kualita', 1), ('print', 1), ('demo', 1), ('instalasi', 1), ('skill', 1), ('wajib', 1), ('cc', 1), ('plc', 1), ('program', 1)]\n"
     ]
    }
   ],
   "metadata": {}
  }
 ],
 "metadata": {
  "orig_nbformat": 4,
  "language_info": {
   "name": "python",
   "version": "3.8.5",
   "mimetype": "text/x-python",
   "codemirror_mode": {
    "name": "ipython",
    "version": 3
   },
   "pygments_lexer": "ipython3",
   "nbconvert_exporter": "python",
   "file_extension": ".py"
  },
  "kernelspec": {
   "name": "python3",
   "display_name": "Python 3.8.5 64-bit ('base': conda)"
  },
  "interpreter": {
   "hash": "7b4b4feff2f24a0f0a34464dbe537a36fda679851528fb8735cb41fa49dffb2d"
  }
 },
 "nbformat": 4,
 "nbformat_minor": 2
}